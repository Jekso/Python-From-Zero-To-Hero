{
 "cells": [
  {
   "cell_type": "markdown",
   "metadata": {},
   "source": [
    "# Read File"
   ]
  },
  {
   "cell_type": "code",
   "execution_count": 1,
   "metadata": {},
   "outputs": [
    {
     "name": "stdout",
     "output_type": "stream",
     "text": [
      "\n",
      "I love python0\n",
      "I love python1\n",
      "I love python2\n",
      "I love python3\n",
      "I love python4\n",
      "I love python5\n",
      "I love python6\n",
      "I love python7\n",
      "I love python8\n",
      "I love python9\n",
      "I love python10\n",
      "I love python11\n",
      "I love python12\n",
      "I love python13\n",
      "I love python14\n",
      "I love python15\n",
      "I love python16\n",
      "I love python17\n",
      "I love python18\n",
      "I love python19\n",
      "I love python20\n",
      "I love python21\n",
      "I love python22\n",
      "I love python23\n",
      "I love python24\n",
      "I love python25\n",
      "I love python26\n",
      "I love python27\n",
      "I love python28\n",
      "I love python29\n"
     ]
    }
   ],
   "source": [
    "f = open(\"test.txt\", \"r\")\n",
    "print(f.read())\n",
    "f.close()"
   ]
  },
  {
   "cell_type": "markdown",
   "metadata": {},
   "source": [
    "# Read Line by Line"
   ]
  },
  {
   "cell_type": "code",
   "execution_count": 2,
   "metadata": {},
   "outputs": [
    {
     "name": "stdout",
     "output_type": "stream",
     "text": [
      "the line is: \n",
      "\n",
      "the line is: I love python0\n",
      "\n",
      "the line is: I love python1\n",
      "\n",
      "the line is: I love python2\n",
      "\n",
      "the line is: I love python3\n",
      "\n",
      "the line is: I love python4\n",
      "\n",
      "the line is: I love python5\n",
      "\n",
      "the line is: I love python6\n",
      "\n",
      "the line is: I love python7\n",
      "\n",
      "the line is: I love python8\n",
      "\n",
      "the line is: I love python9\n",
      "\n",
      "the line is: I love python10\n",
      "\n",
      "the line is: I love python11\n",
      "\n",
      "the line is: I love python12\n",
      "\n",
      "the line is: I love python13\n",
      "\n",
      "the line is: I love python14\n",
      "\n",
      "the line is: I love python15\n",
      "\n",
      "the line is: I love python16\n",
      "\n",
      "the line is: I love python17\n",
      "\n",
      "the line is: I love python18\n",
      "\n",
      "the line is: I love python19\n",
      "\n",
      "the line is: I love python20\n",
      "\n",
      "the line is: I love python21\n",
      "\n",
      "the line is: I love python22\n",
      "\n",
      "the line is: I love python23\n",
      "\n",
      "the line is: I love python24\n",
      "\n",
      "the line is: I love python25\n",
      "\n",
      "the line is: I love python26\n",
      "\n",
      "the line is: I love python27\n",
      "\n",
      "the line is: I love python28\n",
      "\n",
      "the line is: I love python29\n"
     ]
    }
   ],
   "source": [
    "f = open(\"test.txt\", \"r\")\n",
    "all_lines = f.readlines()\n",
    "all_lines\n",
    "\n",
    "for line in all_lines:\n",
    "    print('the line is: ' + line)"
   ]
  },
  {
   "cell_type": "code",
   "execution_count": null,
   "metadata": {},
   "outputs": [],
   "source": []
  },
  {
   "cell_type": "code",
   "execution_count": 7,
   "metadata": {},
   "outputs": [
    {
     "name": "stdout",
     "output_type": "stream",
     "text": [
      "Hello\n"
     ]
    }
   ],
   "source": [
    "f = open(\"test.txt\", \"w\")\n",
    "f.write(\"Hello\")\n",
    "f.close()\n",
    "\n",
    "f = open(\"test.txt\", \"r\")\n",
    "print(f.read())\n",
    "f.close()\n"
   ]
  },
  {
   "cell_type": "code",
   "execution_count": 6,
   "metadata": {},
   "outputs": [],
   "source": [
    "# f = open(\"test.txt\", \"a\")\n",
    "# f.write(\"\\nI love python\")\n",
    "# f.close()\n",
    "\n",
    "f = open(\"test.txt\", \"w\")\n",
    "for i in range(30):\n",
    "    f.write(\"\\nI love python\" + str(i))\n",
    "\n",
    "# print(f.read())\n",
    "f.close()"
   ]
  },
  {
   "cell_type": "code",
   "execution_count": null,
   "metadata": {},
   "outputs": [],
   "source": []
  }
 ],
 "metadata": {
  "kernelspec": {
   "display_name": "Python 3",
   "language": "python",
   "name": "python3"
  },
  "language_info": {
   "codemirror_mode": {
    "name": "ipython",
    "version": 3
   },
   "file_extension": ".py",
   "mimetype": "text/x-python",
   "name": "python",
   "nbconvert_exporter": "python",
   "pygments_lexer": "ipython3",
   "version": "3.6.5"
  }
 },
 "nbformat": 4,
 "nbformat_minor": 2
}
