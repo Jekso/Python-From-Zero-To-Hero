{
 "cells": [
  {
   "cell_type": "code",
   "execution_count": 1,
   "metadata": {},
   "outputs": [],
   "source": [
    "import os\n",
    "import random"
   ]
  },
  {
   "cell_type": "code",
   "execution_count": 2,
   "metadata": {},
   "outputs": [],
   "source": [
    "def show_universe(place):\n",
    "    universe = os.listdir(place)\n",
    "    for element in universe:\n",
    "        print(element)\n",
    "    return universe\n",
    "        \n",
    "def thanos_snap(universe):\n",
    "    half_of_universe = int(len(universe) / 2)\n",
    "    for i in range(half_of_universe):\n",
    "        os.remove('files/' + universe[i])\n",
    "    print('Perfectly balanced, as all things should be')"
   ]
  },
  {
   "cell_type": "code",
   "execution_count": 3,
   "metadata": {},
   "outputs": [
    {
     "name": "stdout",
     "output_type": "stream",
     "text": [
      "cover001.png\n",
      "cover002.png\n",
      "cover003.png\n",
      "cover004.png\n",
      "cover005.png\n",
      "cover006.png\n",
      "cover007.png\n",
      "cover008.png\n",
      "cover009.png\n",
      "cover010.png\n",
      "cover011.png\n",
      "cover012.png\n",
      "cover013.png\n",
      "cover014.png\n",
      "cover015.png\n",
      "cover016.png\n",
      "cover017.png\n",
      "cover018.png\n",
      "cover019.png\n",
      "cover020.png\n",
      "cover021.png\n",
      "cover022.png\n",
      "cover023.png\n",
      "cover024.png\n",
      "cover025.png\n",
      "cover026.png\n",
      "cover027.png\n",
      "cover028.png\n",
      "cover029.png\n",
      "cover030.png\n",
      "cover031.png\n",
      "cover032.png\n",
      "cover033.png\n",
      "cover034.png\n",
      "cover035.png\n",
      "cover036.png\n",
      "cover037.png\n",
      "cover038.png\n",
      "cover039.png\n",
      "cover040.png\n",
      "cover041.png\n",
      "cover042.png\n",
      "cover043.png\n",
      "cover044.png\n",
      "cover045.png\n",
      "cover046.png\n",
      "cover047.png\n",
      "cover048.png\n",
      "cover049.png\n",
      "cover050.png\n"
     ]
    }
   ],
   "source": [
    "universe = show_universe('files/')"
   ]
  },
  {
   "cell_type": "code",
   "execution_count": 4,
   "metadata": {},
   "outputs": [
    {
     "name": "stdout",
     "output_type": "stream",
     "text": [
      "cover045.png\n"
     ]
    }
   ],
   "source": [
    "print(random.choice(universe))"
   ]
  },
  {
   "cell_type": "code",
   "execution_count": 5,
   "metadata": {},
   "outputs": [
    {
     "name": "stdout",
     "output_type": "stream",
     "text": [
      "50\n"
     ]
    }
   ],
   "source": [
    "print(len(universe))"
   ]
  },
  {
   "cell_type": "code",
   "execution_count": 6,
   "metadata": {},
   "outputs": [
    {
     "name": "stdout",
     "output_type": "stream",
     "text": [
      "Perfectly balanced, as all things should be\n"
     ]
    }
   ],
   "source": [
    "thanos_snap(universe)"
   ]
  },
  {
   "cell_type": "code",
   "execution_count": 7,
   "metadata": {},
   "outputs": [
    {
     "name": "stdout",
     "output_type": "stream",
     "text": [
      "cover026.png\n",
      "cover027.png\n",
      "cover028.png\n",
      "cover029.png\n",
      "cover030.png\n",
      "cover031.png\n",
      "cover032.png\n",
      "cover033.png\n",
      "cover034.png\n",
      "cover035.png\n",
      "cover036.png\n",
      "cover037.png\n",
      "cover038.png\n",
      "cover039.png\n",
      "cover040.png\n",
      "cover041.png\n",
      "cover042.png\n",
      "cover043.png\n",
      "cover044.png\n",
      "cover045.png\n",
      "cover046.png\n",
      "cover047.png\n",
      "cover048.png\n",
      "cover049.png\n",
      "cover050.png\n"
     ]
    }
   ],
   "source": [
    "new_universe = universe = show_universe('files/')"
   ]
  },
  {
   "cell_type": "code",
   "execution_count": 8,
   "metadata": {},
   "outputs": [
    {
     "name": "stdout",
     "output_type": "stream",
     "text": [
      "25\n"
     ]
    }
   ],
   "source": [
    "print(len(universe))"
   ]
  },
  {
   "cell_type": "code",
   "execution_count": null,
   "metadata": {},
   "outputs": [],
   "source": []
  }
 ],
 "metadata": {
  "kernelspec": {
   "display_name": "Python 3",
   "language": "python",
   "name": "python3"
  },
  "language_info": {
   "codemirror_mode": {
    "name": "ipython",
    "version": 3
   },
   "file_extension": ".py",
   "mimetype": "text/x-python",
   "name": "python",
   "nbconvert_exporter": "python",
   "pygments_lexer": "ipython3",
   "version": "3.6.5"
  }
 },
 "nbformat": 4,
 "nbformat_minor": 2
}
