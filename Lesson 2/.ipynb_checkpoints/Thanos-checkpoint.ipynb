{
 "cells": [
  {
   "cell_type": "code",
   "execution_count": 1,
   "metadata": {},
   "outputs": [],
   "source": [
    "import os\n",
    "import random"
   ]
  },
  {
   "cell_type": "code",
   "execution_count": 2,
   "metadata": {},
   "outputs": [
    {
     "name": "stdout",
     "output_type": "stream",
     "text": [
      "cover038.png\n",
      "cover039.png\n",
      "cover040.png\n",
      "cover041.png\n",
      "cover042.png\n",
      "cover043.png\n",
      "cover044.png\n",
      "cover045.png\n",
      "cover046.png\n",
      "cover047.png\n",
      "cover048.png\n",
      "cover049.png\n",
      "cover050.png\n"
     ]
    }
   ],
   "source": [
    "universe = os.listdir('files/')\n",
    "\n",
    "for element in universe:\n",
    "    print(element)"
   ]
  },
  {
   "cell_type": "code",
   "execution_count": 3,
   "metadata": {},
   "outputs": [
    {
     "name": "stdout",
     "output_type": "stream",
     "text": [
      "cover046.png\n"
     ]
    }
   ],
   "source": [
    "print(random.choice(universe))"
   ]
  },
  {
   "cell_type": "code",
   "execution_count": 4,
   "metadata": {},
   "outputs": [
    {
     "name": "stdout",
     "output_type": "stream",
     "text": [
      "13\n"
     ]
    }
   ],
   "source": [
    "print(len(universe))"
   ]
  },
  {
   "cell_type": "code",
   "execution_count": 5,
   "metadata": {},
   "outputs": [],
   "source": [
    "def thanos_snap(universe):\n",
    "    half_of_universe = int(len(universe) / 2)\n",
    "    for i in range(half_of_universe):\n",
    "        os.remove('files/' + universe[i])\n",
    "    print('Perfectly balanced, as all things should be')"
   ]
  },
  {
   "cell_type": "code",
   "execution_count": 6,
   "metadata": {},
   "outputs": [
    {
     "name": "stdout",
     "output_type": "stream",
     "text": [
      "Perfectly balanced, as all things should be\n"
     ]
    }
   ],
   "source": [
    "thanos_snap(universe)"
   ]
  },
  {
   "cell_type": "code",
   "execution_count": 7,
   "metadata": {},
   "outputs": [
    {
     "name": "stdout",
     "output_type": "stream",
     "text": [
      "cover044.png\n",
      "cover045.png\n",
      "cover046.png\n",
      "cover047.png\n",
      "cover048.png\n",
      "cover049.png\n",
      "cover050.png\n"
     ]
    }
   ],
   "source": [
    "new_universe = os.listdir('files/')\n",
    "\n",
    "for element in new_universe:\n",
    "    print(element)"
   ]
  }
 ],
 "metadata": {
  "kernelspec": {
   "display_name": "Python 3",
   "language": "python",
   "name": "python3"
  },
  "language_info": {
   "codemirror_mode": {
    "name": "ipython",
    "version": 3
   },
   "file_extension": ".py",
   "mimetype": "text/x-python",
   "name": "python",
   "nbconvert_exporter": "python",
   "pygments_lexer": "ipython3",
   "version": "3.6.5"
  }
 },
 "nbformat": 4,
 "nbformat_minor": 2
}
