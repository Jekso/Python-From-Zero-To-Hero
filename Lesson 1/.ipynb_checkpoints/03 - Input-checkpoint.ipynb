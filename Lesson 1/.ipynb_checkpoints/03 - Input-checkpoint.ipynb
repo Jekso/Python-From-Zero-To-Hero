{
 "cells": [
  {
   "cell_type": "markdown",
   "metadata": {},
   "source": [
    "# Get Input from user"
   ]
  },
  {
   "cell_type": "code",
   "execution_count": 1,
   "metadata": {},
   "outputs": [
    {
     "name": "stdout",
     "output_type": "stream",
     "text": [
      "What is your name: ragab\n",
      "Hello ragab\n"
     ]
    }
   ],
   "source": [
    "name = input(\"What is your name: \")\n",
    "print(\"Hello \" + name)"
   ]
  },
  {
   "cell_type": "markdown",
   "metadata": {},
   "source": [
    "# Sum calculator"
   ]
  },
  {
   "cell_type": "code",
   "execution_count": 5,
   "metadata": {},
   "outputs": [
    {
     "name": "stdout",
     "output_type": "stream",
     "text": [
      "Enter your first number: 10\n",
      "Enter your second number: 7\n",
      "Num1 is : 10\n",
      "Num2 is : 7\n",
      "Result is : 70\n"
     ]
    }
   ],
   "source": [
    "num1 = input(\"Enter your first number: \")\n",
    "num2 = input(\"Enter your second number: \")\n",
    "\n",
    "result = int(num1) + int(num2)\n",
    "\n",
    "print(\"Num1 is : \" + str(num1))\n",
    "print(\"Num2 is : \" + str(num2))\n",
    "print(\"Result is : \" + str(result))"
   ]
  },
  {
   "cell_type": "markdown",
   "metadata": {},
   "source": [
    "# Sum calculator using Float"
   ]
  },
  {
   "cell_type": "code",
   "execution_count": 5,
   "metadata": {},
   "outputs": [
    {
     "name": "stdout",
     "output_type": "stream",
     "text": [
      "Enter your first number: 10.5\n",
      "Enter your second number: 20.75\n",
      "Num1 is : 10.5\n",
      "Num2 is : 20.75\n",
      "Result is : 31.25\n"
     ]
    }
   ],
   "source": [
    "num1 = input(\"Enter your first number: \")\n",
    "num2 = input(\"Enter your second number: \")\n",
    "\n",
    "result = float(num1) + float(num2)\n",
    "\n",
    "print(\"Num1 is : \" + str(num1))\n",
    "print(\"Num2 is : \" + str(num2))\n",
    "print(\"Result is : \" + str(result))"
   ]
  },
  {
   "cell_type": "markdown",
   "metadata": {},
   "source": [
    "# Multiply Calculator"
   ]
  },
  {
   "cell_type": "code",
   "execution_count": 6,
   "metadata": {},
   "outputs": [
    {
     "name": "stdout",
     "output_type": "stream",
     "text": [
      "Enter your first number: 10\n",
      "Enter your second number: 50\n",
      "Num1 is : 10\n",
      "Num2 is : 50\n",
      "Result is : 500\n"
     ]
    }
   ],
   "source": [
    "num1 = input(\"Enter your first number: \")\n",
    "num2 = input(\"Enter your second number: \")\n",
    "\n",
    "result = int(num1) * int(num2)\n",
    "\n",
    "print(\"Num1 is : \" + str(num1))\n",
    "print(\"Num2 is : \" + str(num2))\n",
    "print(\"Result is : \" + str(result))"
   ]
  },
  {
   "cell_type": "code",
   "execution_count": null,
   "metadata": {},
   "outputs": [],
   "source": []
  }
 ],
 "metadata": {
  "kernelspec": {
   "display_name": "Python 3",
   "language": "python",
   "name": "python3"
  },
  "language_info": {
   "codemirror_mode": {
    "name": "ipython",
    "version": 3
   },
   "file_extension": ".py",
   "mimetype": "text/x-python",
   "name": "python",
   "nbconvert_exporter": "python",
   "pygments_lexer": "ipython3",
   "version": "3.6.5"
  }
 },
 "nbformat": 4,
 "nbformat_minor": 2
}
