{
 "cells": [
  {
   "cell_type": "code",
   "execution_count": 10,
   "metadata": {},
   "outputs": [
    {
     "name": "stdout",
     "output_type": "stream",
     "text": [
      "كم قيمة مشترياتك ؟800\n",
      "كم رصيد حسابك؟1000\n",
      "yes\n",
      "الباقى = 200\n"
     ]
    }
   ],
   "source": [
    "products_sum = input(\"كم قيمة مشترياتك ؟\") \n",
    "credit = input('كم رصيد حسابك؟')\n",
    "\n",
    "if int(products_sum) > int(credit):\n",
    "    print('no')\n",
    "else:\n",
    "    print('yes')\n",
    "    print('الباقى = ' + str(int(credit) - int(products_sum)))"
   ]
  },
  {
   "cell_type": "code",
   "execution_count": null,
   "metadata": {},
   "outputs": [],
   "source": []
  }
 ],
 "metadata": {
  "kernelspec": {
   "display_name": "Python 3",
   "language": "python",
   "name": "python3"
  },
  "language_info": {
   "codemirror_mode": {
    "name": "ipython",
    "version": 3
   },
   "file_extension": ".py",
   "mimetype": "text/x-python",
   "name": "python",
   "nbconvert_exporter": "python",
   "pygments_lexer": "ipython3",
   "version": "3.6.5"
  }
 },
 "nbformat": 4,
 "nbformat_minor": 2
}
