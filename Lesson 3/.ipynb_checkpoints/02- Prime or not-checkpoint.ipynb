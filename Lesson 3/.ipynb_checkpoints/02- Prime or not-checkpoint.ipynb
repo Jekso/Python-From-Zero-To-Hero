{
 "cells": [
  {
   "cell_type": "code",
   "execution_count": 19,
   "metadata": {},
   "outputs": [
    {
     "name": "stdout",
     "output_type": "stream",
     "text": [
      "enter ur number3\n",
      "Prime\n"
     ]
    }
   ],
   "source": [
    "def isPrime(number):\n",
    "    for i in range(2, n):\n",
    "        if n % i == 0:\n",
    "            return 'Not Prime'\n",
    "    return 'Prime'\n",
    "\n",
    "\n",
    "\n",
    "n = int(input('enter ur number'))\n",
    "result = isPrime(n)\n",
    "print(result)"
   ]
  },
  {
   "cell_type": "code",
   "execution_count": 29,
   "metadata": {},
   "outputs": [
    {
     "name": "stdout",
     "output_type": "stream",
     "text": [
      "1060\n"
     ]
    }
   ],
   "source": [
    "def isPrime(n):\n",
    "    if n <= 1:\n",
    "        return 'Not Prime'\n",
    "    for i in range(2, n):\n",
    "        if n % i == 0:\n",
    "            return 'Not Prime'\n",
    "    return 'Prime'\n",
    "\n",
    "sum = 0\n",
    "for num in range(1, 101):\n",
    "    if isPrime(num) == 'Prime':\n",
    "        sum = sum + num\n",
    "print(sum)"
   ]
  },
  {
   "cell_type": "code",
   "execution_count": null,
   "metadata": {},
   "outputs": [],
   "source": []
  }
 ],
 "metadata": {
  "kernelspec": {
   "display_name": "Python 3",
   "language": "python",
   "name": "python3"
  },
  "language_info": {
   "codemirror_mode": {
    "name": "ipython",
    "version": 3
   },
   "file_extension": ".py",
   "mimetype": "text/x-python",
   "name": "python",
   "nbconvert_exporter": "python",
   "pygments_lexer": "ipython3",
   "version": "3.6.5"
  }
 },
 "nbformat": 4,
 "nbformat_minor": 2
}
