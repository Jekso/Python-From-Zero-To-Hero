{
 "cells": [
  {
   "cell_type": "code",
   "execution_count": 1,
   "metadata": {},
   "outputs": [
    {
     "name": "stdout",
     "output_type": "stream",
     "text": [
      "Enter temp in clesius10\n",
      "283\n"
     ]
    }
   ],
   "source": [
    "def temprature_from_cls_to_klv(tempreture_in_cls):\n",
    "    return tempreture_in_cls + 273\n",
    "\n",
    "\n",
    "temp_cls = int(input('Enter temp in clesius'))\n",
    "temp_klv = temprature_from_cls_to_klv(temp_cls)\n",
    "print(temp_klv)"
   ]
  },
  {
   "cell_type": "code",
   "execution_count": 2,
   "metadata": {},
   "outputs": [
    {
     "name": "stdout",
     "output_type": "stream",
     "text": [
      "Enter circle radius10\n",
      "314.1592653589793\n"
     ]
    }
   ],
   "source": [
    "import math\n",
    "\n",
    "def circle_area(radius):\n",
    "    return math.pi * math.pow(radius, 2)\n",
    "\n",
    "\n",
    "radius = int(input('Enter circle radius'))\n",
    "area = circle_area(radius)\n",
    "print(area)"
   ]
  },
  {
   "cell_type": "code",
   "execution_count": null,
   "metadata": {},
   "outputs": [],
   "source": []
  }
 ],
 "metadata": {
  "kernelspec": {
   "display_name": "Python 3",
   "language": "python",
   "name": "python3"
  },
  "language_info": {
   "codemirror_mode": {
    "name": "ipython",
    "version": 3
   },
   "file_extension": ".py",
   "mimetype": "text/x-python",
   "name": "python",
   "nbconvert_exporter": "python",
   "pygments_lexer": "ipython3",
   "version": "3.6.5"
  }
 },
 "nbformat": 4,
 "nbformat_minor": 2
}
